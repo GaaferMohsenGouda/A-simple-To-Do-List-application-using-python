{
 "cells": [
  {
   "cell_type": "markdown",
   "id": "d5725105-3cd0-470e-9b02-90fc570226ae",
   "metadata": {},
   "source": [
    "# Creating a simple to do list using python \n",
    "### Hey there, everyone! I'm Gaafer Astroinforamatics specialist & python devolper , Through this talk We are going to dive into areally cool coding project.\n",
    "### We'll establish a simple `To-Do List` application using python. This program allows you to add tasks, view tasks, mark tasks as done, and exit the list. It’s a great way to keep track of your tasks and stay organized \n"
   ]
  },
  {
   "cell_type": "markdown",
   "id": "c89cf49d-6831-48a0-97ae-eacda7a56393",
   "metadata": {},
   "source": [
    "## Pre-requisites:\n",
    "- Basic Python Knowledge: It’s helpful to have a basic understanding of Python programming concepts like variables, loops, functions, and if statements\n",
    "\n",
    "- Python Installed: Make sure you have Python installed on your computer. You can download it from the Link in Description.\n",
    "\n",
    "- Text Editor or IDE: You’ll need a text editor or integrated development environment (IDE) to write and run your Python code. Some popular options are Visual Studio Code, PyCharm, or even a simple text editor like Notepad.\n",
    "\n",
    "- Curiosity and Enthusiasm: Most importantly, bring your curiosity and enthusiasm for coding. This project is a great way to have fun while learning and practicing Python.\n",
    "\n",
    "### Python Concepts Needed\n",
    "- Conditional Statements\n",
    "- Looping\n",
    "- Function\n"
   ]
  },
  {
   "cell_type": "markdown",
   "id": "fec56245-ec1f-4765-b1b4-feb20210588d",
   "metadata": {},
   "source": [
    " First,We begin by defining a function called main(). This function will be the heart of our `To-Do List` program.\n",
    " Inside the function, we create an empty list called tasks. This list will hold all our tasks.\n"
   ]
  },
  {
   "cell_type": "code",
   "execution_count": null,
   "id": "d95c5c40-ade8-4a14-b83b-8f21a86cdd0f",
   "metadata": {},
   "outputs": [],
   "source": [
    "def main():\n",
    "    tasks = []"
   ]
  },
  {
   "cell_type": "code",
   "execution_count": null,
   "id": "adbec96d-e02e-45b0-bdbd-06dba602a7aa",
   "metadata": {},
   "outputs": [],
   "source": [
    "while True:\n",
    "        print(\"\\n===== To-Do List =====\")\n",
    "        print(\"1. Add Task\")\n",
    "        print(\"2. Show Tasks\")\n",
    "        print(\"3. Mark Task as Done\")\n",
    "        print(\"4. Exit\")\n",
    "\n",
    "        choice = input(\"Enter your choice: \")"
   ]
  },
  {
   "cell_type": "markdown",
   "id": "55d817d0-29b4-43f2-9ba3-51e6438bf6c7",
   "metadata": {},
   "source": [
    " We use a while True loop to keep the program running until the user decides to exit. Inside the loop, we display a menu with four options:\n",
    "\n",
    "- Add Task\n",
    "- Show Tasks\n",
    "- Mark Task as Done\n",
    "- Exit\n",
    "\n",
    " The user is prompted to enter their choice."
   ]
  },
  {
   "cell_type": "code",
   "execution_count": null,
   "id": "93a31024-de9e-410c-a50f-de81ccc0ba85",
   "metadata": {},
   "outputs": [],
   "source": [
    "if choice == '1':\n",
    "            print()\n",
    "            n_tasks = int(input(\"How may task you want to add: \"))\n",
    "            \n",
    "            for i in range(n_tasks):\n",
    "                task = input(\"Enter the task: \")\n",
    "                tasks.append({\"task\": task, \"done\": False})\n",
    "                print(\"Task added!\")"
   ]
  },
  {
   "cell_type": "markdown",
   "id": "6e3c3ab9-8465-4f0f-8d46-3eae9b944dca",
   "metadata": {},
   "source": [
    "If the user selects `option ‘1’`, they can add tasks to their `To-Do List`.\n",
    "The program asks how many tasks the user wants to add.\n",
    "Then, for each task, the user enters a description, and we add that task to our tasks list along with a status of “Not Done.”\n"
   ]
  },
  {
   "cell_type": "code",
   "execution_count": null,
   "id": "bc7c0d2b-e4ab-4e38-8e66-11c5ab97af63",
   "metadata": {},
   "outputs": [],
   "source": [
    "elif choice == '2':\n",
    "            print(\"\\nTasks:\")\n",
    "            for index, task in enumerate(tasks):\n",
    "                status = \"Done\" if task[\"done\"] else \"Not Done\"\n",
    "                print(f\"{index + 1}. {task['task']} - {status}\")\n"
   ]
  },
  {
   "cell_type": "markdown",
   "id": "5b184bb6-bd55-4477-b4c4-e12161c8c1c6",
   "metadata": {},
   "source": [
    "If the user chooses `option ‘2’`, we display the list of tasks along with their statuses.\n",
    "We use a loop to go through each task and show its number, description, and whether it’s done or not."
   ]
  },
  {
   "cell_type": "code",
   "execution_count": null,
   "id": "60bb08b7-e835-473e-9227-70409c0437cc",
   "metadata": {},
   "outputs": [],
   "source": [
    "elif choice == '3':\n",
    "            task_index = int(input(\"Enter the task number to mark as done: \")) - 1\n",
    "            if 0 <= task_index < len(tasks):\n",
    "                tasks[task_index][\"done\"] = True\n",
    "                print(\"Task marked as done!\")\n",
    "            else:\n",
    "                print(\"Invalid task number.\")"
   ]
  },
  {
   "cell_type": "markdown",
   "id": "9e90e465-f2ca-45c9-9fb1-ed5f5f50f90e",
   "metadata": {},
   "source": [
    "Now, if the user picks `option ‘3’`, they can mark a task as done. They enter the task number they want to mark, and if the number is valid, we change the status of that task to `“Done.”`"
   ]
  },
  {
   "cell_type": "code",
   "execution_count": null,
   "id": "3b4a63e4-a873-4681-b67c-d07a68c67b81",
   "metadata": {},
   "outputs": [],
   "source": [
    "elif choice == '4':\n",
    "     print(\"Exiting the To-Do List.\")\n",
    "     break\n",
    "\n",
    "else:\n",
    "     print(\"Invalid choice. Please try again.\")"
   ]
  },
  {
   "cell_type": "markdown",
   "id": "a368897b-a515-4085-9ab1-ccb55c153b92",
   "metadata": {},
   "source": [
    " Finally, if the user goes with `option ‘4’`, we exit the To-Do List by breaking out of the loop."
   ]
  },
  {
   "cell_type": "markdown",
   "id": "88da1a0c-c19f-4cc8-8a40-3a3944649b92",
   "metadata": {},
   "source": [
    "### FULL CODE:"
   ]
  },
  {
   "cell_type": "code",
   "execution_count": null,
   "id": "5e22997c-0cb1-479e-a0bc-a330658d739c",
   "metadata": {},
   "outputs": [
    {
     "name": "stdout",
     "output_type": "stream",
     "text": [
      "\n",
      "===== To-Do List =====\n",
      "1. Add Task\n",
      "2. Show Tasks\n",
      "3. Mark Task as Done\n",
      "4. Exit\n"
     ]
    }
   ],
   "source": [
    "def main():\n",
    "    tasks = []\n",
    "\n",
    "    while True:\n",
    "        print(\"\\n===== To-Do List =====\")\n",
    "        print(\"1. Add Task\")\n",
    "        print(\"2. Show Tasks\")\n",
    "        print(\"3. Mark Task as Done\")\n",
    "        print(\"4. Exit\")\n",
    "\n",
    "        choice = input(\"Enter your choice: \")\n",
    "\n",
    "        if choice == '1':\n",
    "            print()\n",
    "            n_tasks = int(input(\"How may task you want to add: \"))\n",
    "            \n",
    "            for i in range(n_tasks):\n",
    "                task = input(\"Enter the task: \")\n",
    "                tasks.append({\"task\": task, \"done\": False})\n",
    "                print(\"Task added!\")\n",
    "\n",
    "        elif choice == '2':\n",
    "            print(\"\\nTasks:\")\n",
    "            for index, task in enumerate(tasks):\n",
    "                status = \"Done\" if task[\"done\"] else \"Not Done\"\n",
    "                print(f\"{index + 1}. {task['task']} - {status}\")\n",
    "\n",
    "        elif choice == '3':\n",
    "            task_index = int(input(\"Enter the task number to mark as done: \")) - 1\n",
    "            if 0 <= task_index < len(tasks):\n",
    "                tasks[task_index][\"done\"] = True\n",
    "                print(\"Task marked as done!\")\n",
    "            else:\n",
    "                print(\"Invalid task number.\")\n",
    "\n",
    "        elif choice == '4':\n",
    "            print(\"Exiting the To-Do List.\")\n",
    "            break\n",
    "\n",
    "        else:\n",
    "            print(\"Invalid choice. Please try again.\")\n",
    "\n",
    "if __name__ == \"__main__\":\n",
    "    main()"
   ]
  },
  {
   "cell_type": "markdown",
   "id": "4475bc3e-51d6-437f-9e97-73736a11e8ff",
   "metadata": {},
   "source": [
    " 𝐈'𝐦 𝐝𝐞𝐟𝐞𝐧𝐝𝐢𝐧𝐠 𝐦𝐲 𝐩𝐨𝐬𝐢𝐭𝐢𝐨𝐧 𝐚𝐬 𝐭𝐡𝐞 𝐛𝐞𝐬𝐭 𝐮𝐩𝐜𝐨𝐦𝐢𝐧𝐠 `𝐀𝐬𝐭𝐫𝐨𝐢𝐧𝐟𝐨𝐫𝐦𝐚𝐭𝐢𝐜𝐬 𝐒𝐩𝐞𝐜𝐢𝐚𝐥𝐢𝐬𝐭` 𝐈𝐧 𝐬𝐡𝐚𝐚 𝐀𝐥𝐥𝐚𝐡 & 𝐓𝐡𝐢𝐬 𝐢𝐬 𝐌𝐲 𝐋𝐢𝐧𝐤𝐞𝐝𝐈𝐧 𝐩𝐫𝐨𝐟𝐢𝐥𝐞 𝐉𝐮𝐬𝐭 𝐚 𝐓𝐨𝐨𝐥 𝐭𝐨 𝐅𝐥𝐨𝐮𝐫𝐢𝐬𝐡\n",
    "https://www.linkedin.com/in/gaafer-gouda-nasa\n",
    "\n",
    "𝐈'𝐦 𝐩𝐚𝐫𝐭𝐢𝐜𝐢𝐩𝐚𝐭𝐢𝐧𝐠 𝐚𝐬 𝐚 𝐓𝐫𝐚𝐢𝐧𝐞𝐞 𝐚𝐭 Digital Egypt Pioneers Initiative - DEPI , 𝐔𝐧𝐝𝐞𝐫 𝐒𝐮𝐩𝐞𝐫𝐯𝐢𝐬𝐢𝐨𝐧 𝐨𝐟 Ministry of Communications and Information Technology (MCIT), Egypt 𝐀𝐈 & 𝐃𝐚𝐭𝐚 𝐒𝐜𝐢𝐞𝐧𝐜𝐞 IBM.  𝐈'𝐦 𝐚𝐬𝐤𝐢𝐧𝐠 𝐀𝐥𝐥𝐚𝐡 𝐚𝐥𝐰𝐚𝐲𝐬 𝐟𝐨𝐫 𝐦𝐨𝐫𝐞 𝐠𝐮𝐢𝐝𝐚𝐧𝐜𝐞 & 𝐩𝐫𝐨𝐬𝐩𝐞𝐫𝐢𝐭𝐲 \n",
    "\n",
    "【𝐀𝐦𝐢𝐝𝐬𝐭 𝐒𝐞𝐧𝐢𝐨𝐫𝐬,𝐄𝐯𝐞𝐫 𝐩𝐫𝐞𝐬𝐞𝐧𝐭】"
   ]
  },
  {
   "cell_type": "code",
   "execution_count": null,
   "id": "9f1d9e44-04b6-4a57-a103-66b17f861cae",
   "metadata": {},
   "outputs": [],
   "source": []
  }
 ],
 "metadata": {
  "kernelspec": {
   "display_name": "Python 3 (ipykernel)",
   "language": "python",
   "name": "python3"
  },
  "language_info": {
   "codemirror_mode": {
    "name": "ipython",
    "version": 3
   },
   "file_extension": ".py",
   "mimetype": "text/x-python",
   "name": "python",
   "nbconvert_exporter": "python",
   "pygments_lexer": "ipython3",
   "version": "3.10.9"
  }
 },
 "nbformat": 4,
 "nbformat_minor": 5
}
